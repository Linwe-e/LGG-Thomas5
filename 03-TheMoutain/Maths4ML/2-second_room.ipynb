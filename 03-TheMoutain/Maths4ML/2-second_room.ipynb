{
 "cells": [
  {
   "cell_type": "markdown",
   "id": "31004816",
   "metadata": {},
   "source": [
    "The new place was a lot damper than the former room.\n",
    "\n",
    "**Yann**: OUCH!\n",
    "\n",
    "Something had just hit his forehead. Yann looked up. Tiny pebbles and droplets were falling all over. The small rocks were slipping through cracks. These fissures spelled out:\n",
    "> \"Mathematics knows no language\"\n",
    "\n",
    "This wasn't the only thing written in the room. On the far side some engravings carved into a peculiar pattern. Drawing closer, Yann could discernate some wikipedia level mathematical notations.\n",
    "\n",
    "![image](images/Sigma_Sign_First.png)\n",
    "\n",
    "The big letter Yann could tell was the capital letter \"Sigma\". But why was it coupled with all these writings? Yann didn't know. The spear and dragon! He knew what it meant... Maybe could he be able to guess what sigma meant from that. The monitor lit up again:"
   ]
  },
  {
   "cell_type": "code",
   "execution_count": 3,
   "id": "305073db",
   "metadata": {},
   "outputs": [
    {
     "name": "stdout",
     "output_type": "stream",
     "text": [
      "You understand the Sigma, glory to it and to everything. Yes this scary maths symbol is just a for loop ...\n"
     ]
    }
   ],
   "source": [
    "import utils.check\n",
    "\n",
    "#IMPLEMENT THE FUNCTION\n",
    "def sigma(arr):\n",
    "    #TODO\n",
    "    return sum(arr)\n",
    "\n",
    "utils.check.check_simple_sigma(sigma)"
   ]
  },
  {
   "cell_type": "markdown",
   "id": "99601486",
   "metadata": {},
   "source": [
    "The screen flickered for a couple of seconds..."
   ]
  },
  {
   "cell_type": "code",
   "execution_count": 4,
   "id": "653c4e4f",
   "metadata": {},
   "outputs": [
    {
     "data": {
      "text/markdown": [
       "# 🔢  Big-Sigma (Summation) Notation\n",
       "$$\\sum_{i=0}^{n} f(i)$$\n",
       "## What it means\n",
       "Add the value of $f(i)$ for every integer $i$ starting at 0 and ending at $n$ (inclusive). In code-speak, it’s a loop that keeps an **accumulator**.\n",
       "\n",
       "### Parts of the notation\n",
       "- $\\Sigma$ : summation symbol (Greek capital sigma)\n",
       "\n",
       "- $i = 0$ : start value of the index\n",
       "\n",
       "- $n$ : end value of the index (inclusive)\n",
       "\n",
       "- $f(i)$ : function evaluated at each step\n",
       "\n",
       "### Equivalent Python:\n",
       "```python\n",
       "total = 0\n",
       "for i in range(0, n + 1):\n",
       "    total += f(i)\n",
       "```\n",
       "        \n",
       "## Example\n",
       "With $f(i)=i^2$ and $n=3$\n",
       "$$\\sum_{i=0}^{3} i^2 = 0^2 + 1^2 + 2^2 + 3^2 = 14$$\n",
       "                         \n",
       "## Bring it to the next level\n",
       "\n",
       "                         \n",
       "*“A squiggle of sigmas, a mean in the fray,*  \n",
       "*Subtract, then you square — let the outliers play.*  \n",
       "*Sum it, divide it, then square root the pain,*  \n",
       "*Deviation’s a dance 'round the average domain.”*  \n",
       "\n",
       "— *ChatGPT*\n",
       "\n",
       "Now that you know what the notation means. There is one small function I want you to implement. The formula is the following:\n",
       "$$\\sigma = \\sqrt{ \\frac{1}{n} \\sum_{i=1}^{n} (x_i - \\mu)^2 }$$\n",
       "Where we have:\n",
       "- $\\mu$ : What the speared dragon is to the dragon\n",
       "\n",
       "\n",
       "Copy the following python code in the code block below and fill it in\n",
       "```python\n",
       "def complicated_function(arr):\n",
       "    #TODO\n",
       "    return 0\n",
       "\n",
       "utils.check.check_complicated_function(complicated_function)\n",
       "```"
      ],
      "text/plain": [
       "<IPython.core.display.Markdown object>"
      ]
     },
     "metadata": {},
     "output_type": "display_data"
    }
   ],
   "source": [
    "#Explaining the Sigma notation (input previous passcode)\n",
    "utils.check.explain_sigma()"
   ]
  },
  {
   "cell_type": "code",
   "execution_count": null,
   "id": "f5ecd03e",
   "metadata": {},
   "outputs": [
    {
     "data": {
      "text/markdown": [
       "## 🔔The bell curve smiles upon you🔔\n",
       "The function you have just implemented is what we more commonly refer to as the Standard Deviation, denoted $\\sigma$.\n",
       " We call it a measure of *spread*. There are other measures of spread of course, like range, interquartile-range, variance (which is just the square of the standard deviation).\n",
       "\n",
       "Challenging you with the standard deviation was to get your brain working. But now you understand.\n",
       " If most values are far away from the mean, the terms in the sum will be large, so the sum will be large\n",
       " and the standard deviation will be large. Conversely, if most values are close to the mean, the terms in the sum will be small, so the sum will be small\n",
       " so the standard deviation will be small. It's not rocket science :)\n",
       "\n",
       "The journey does not end there. Up we go. The next password will be **PaulAllen**."
      ],
      "text/plain": [
       "<IPython.core.display.Markdown object>"
      ]
     },
     "metadata": {},
     "output_type": "display_data"
    }
   ],
   "source": [
    "def complicated_function(arr):\n",
    "    #TODO\n",
    "    mean = sigma(arr) / len(arr)\n",
    "    deviation = sum((x - mean) ** 2 for x in arr) / len(arr)\n",
    "    deviation = deviation ** 0.5  \n",
    "    return deviation\n",
    "\n",
    "utils.check.check_complicated_function(complicated_function)"
   ]
  }
 ],
 "metadata": {
  "kernelspec": {
   "display_name": "Python 3",
   "language": "python",
   "name": "python3"
  },
  "language_info": {
   "codemirror_mode": {
    "name": "ipython",
    "version": 3
   },
   "file_extension": ".py",
   "mimetype": "text/x-python",
   "name": "python",
   "nbconvert_exporter": "python",
   "pygments_lexer": "ipython3",
   "version": "3.13.1"
  }
 },
 "nbformat": 4,
 "nbformat_minor": 5
}
