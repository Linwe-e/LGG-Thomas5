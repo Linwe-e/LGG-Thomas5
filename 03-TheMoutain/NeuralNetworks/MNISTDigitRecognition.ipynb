{
 "cells": [
  {
   "cell_type": "markdown",
   "id": "cc51f5b7",
   "metadata": {},
   "source": [
    "# Building a Simple Neural Network from Scratch for MNIST Digit Recognition without using TensorFlow/PyTorch only using Numpy\n",
    "\n",
    "https://medium.com/@ombaval/building-a-simple-neural-network-from-scratch-for-mnist-digit-recognition-without-using-7005a7733418"
   ]
  },
  {
   "cell_type": "code",
   "execution_count": null,
   "id": "66a2cbd1",
   "metadata": {},
   "outputs": [],
   "source": [
    "import numpy as np\n",
    "import pandas as pd\n",
    "import matplotlib.pyplot as plt"
   ]
  },
  {
   "cell_type": "code",
   "execution_count": null,
   "id": "01345899",
   "metadata": {},
   "outputs": [],
   "source": [
    "# Load the MNIST dataset\n",
    "data = pd.read_csv(\"train.csv\")"
   ]
  }
 ],
 "metadata": {
  "language_info": {
   "name": "python"
  }
 },
 "nbformat": 4,
 "nbformat_minor": 5
}
